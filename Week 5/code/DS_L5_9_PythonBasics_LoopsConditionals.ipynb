{
 "cells": [
  {
   "cell_type": "markdown",
   "metadata": {
    "id": "ybcgFSfOZMdu"
   },
   "source": [
    "**Josh Hellings** - Automated Data Visualisation for Economists 2025\n",
    "\n",
    "In this notebook, we will look at more Python basics, with examples of conditionals, loops and other techniques that will underpin using Python for Data Science.\n",
    "\n",
    "**Note**: Make sure you've worked through the first Python basics notebook before tackling this one."
   ]
  },
  {
   "cell_type": "markdown",
   "metadata": {
    "id": "7tiwunfVZSGB"
   },
   "source": [
    "<br>\n",
    "<br>\n",
    "\n",
    "# Python basics"
   ]
  },
  {
   "cell_type": "markdown",
   "metadata": {
    "id": "Ak_i9AuEZ5C5"
   },
   "source": [
    "## 1. Loops\n",
    "\n",
    "Any time we encounter repetitive code—like printing several locations—it's a signal that we might use a loop to make our code more efficient and less prone to errors. Loops are fundamental in programming, allowing you to execute a set of statements repeatedly with less code, improving accuracy and efficiency."
   ]
  },
  {
   "cell_type": "markdown",
   "metadata": {
    "id": "1vgktYkQdw92"
   },
   "source": [
    "\n",
    "### 1.1 **For Loop with Lists**\n",
    "\n",
    "The **`for`** loop is used to iterate over the items of a list, executing a block of code once for each item."
   ]
  },
  {
   "cell_type": "code",
   "execution_count": 6,
   "metadata": {
    "colab": {
     "base_uri": "https://localhost:8080/"
    },
    "executionInfo": {
     "elapsed": 680,
     "status": "ok",
     "timestamp": 1728899387724,
     "user": {
      "displayName": "Josh Hellings",
      "userId": "03405586985948871347"
     },
     "user_tz": -60
    },
    "id": "BUG0FEisZGzM",
    "outputId": "0b3b15e8-831f-468f-c8c6-fee4d05c6987"
   },
   "outputs": [
    {
     "name": "stdout",
     "output_type": "stream",
     "text": [
      "London\n",
      "Darlington\n",
      "Newport\n"
     ]
    }
   ],
   "source": [
    "# Our list of locations\n",
    "locations = [\"London\", \"Darlington\", \"Newport\"]   # Remember, we define lists with a selection of comma separated values between []\n",
    "\n",
    "# Using a for loop to print each location\n",
    "for location in locations:\n",
    "    print(location)"
   ]
  },
  {
   "cell_type": "markdown",
   "metadata": {
    "id": "6p3ovvTraemq"
   },
   "source": [
    "**Note**: It's common to use singular and plural names in for loops (e.g., for fruit in fruits), where fruits is a list of fruit names. The specific names used are not important; what matters is their role in the loop. The identifier after for (e.g., location) represents the current item from the list being iterated over."
   ]
  },
  {
   "cell_type": "code",
   "execution_count": 7,
   "metadata": {
    "colab": {
     "base_uri": "https://localhost:8080/"
    },
    "executionInfo": {
     "elapsed": 3,
     "status": "ok",
     "timestamp": 1728899388006,
     "user": {
      "displayName": "Josh Hellings",
      "userId": "03405586985948871347"
     },
     "user_tz": -60
    },
    "id": "oKiQue_YaWN5",
    "outputId": "1d0c49c6-b762-4330-df8c-0f28b0ba2bf9"
   },
   "outputs": [
    {
     "name": "stdout",
     "output_type": "stream",
     "text": [
      "London\n",
      "Darlington\n",
      "Newport\n"
     ]
    }
   ],
   "source": [
    "# Another example with different variable names but identical functionality\n",
    "placeList = [\"London\", \"Darlington\", \"Newport\"]\n",
    "for place in placeList:\n",
    "    print(place)"
   ]
  },
  {
   "cell_type": "markdown",
   "metadata": {
    "id": "U0WXXbE1aiza"
   },
   "source": [
    "The names are different, but the output is the same because both loops iterate over a list and print each item."
   ]
  },
  {
   "cell_type": "markdown",
   "metadata": {
    "id": "yoUsJShxkbn2"
   },
   "source": [
    "**Tip**: In Python, code structure is defined by indentation (typically 4 spaces), which groups related lines into blocks, like loops or conditionals. Unlike other languages that use symbols (e.g., {}), Python uses indentation to indicate the start and end of code blocks, making consistent spacing essential. The easy way to do this is just to hit the `tab` key."
   ]
  },
  {
   "cell_type": "markdown",
   "metadata": {
    "id": "jajRDFANb0SS"
   },
   "source": [
    "<br>\n",
    "\n",
    "### 1.2 **Looping Over a Range of Numbers**\n",
    "\n",
    "In addition to lists, you can loop over a sequence of numbers using the **`range()`** function. This is useful for repeating an action a specific number of times."
   ]
  },
  {
   "cell_type": "code",
   "execution_count": 8,
   "metadata": {
    "colab": {
     "base_uri": "https://localhost:8080/"
    },
    "executionInfo": {
     "elapsed": 431,
     "status": "ok",
     "timestamp": 1728899469647,
     "user": {
      "displayName": "Josh Hellings",
      "userId": "03405586985948871347"
     },
     "user_tz": -60
    },
    "id": "Ry7tJc2fah1e",
    "outputId": "4b3fee8a-0159-43df-f533-073a836105cf"
   },
   "outputs": [
    {
     "name": "stdout",
     "output_type": "stream",
     "text": [
      "Number: 0\n",
      "Number: 1\n",
      "Number: 2\n"
     ]
    }
   ],
   "source": [
    "# Looping over a range of numbers\n",
    "for i in range(3):  # Will iterate over 0, 1, 2\n",
    "    print(\"Number:\", i)"
   ]
  },
  {
   "cell_type": "markdown",
   "metadata": {
    "id": "ALErztH8cHyq"
   },
   "source": [
    "**Note**: `range()` function is zero based, so like when using the index to access list items, we start from 0."
   ]
  },
  {
   "cell_type": "markdown",
   "metadata": {
    "id": "9VPStSZgcJ3m"
   },
   "source": [
    "<br>\n",
    "\n",
    "### 1.3 **Advanced usage of the range() function**\n",
    "\n",
    "The **`range()`** function is versatile and can be tailored for more complex looping scenarios, such as starting from a non-zero value or incrementing by steps greater than one.\n",
    "\n",
    "##### 1.3.1 **Starting from a Non-Zero Value**\n",
    "\n",
    "By default, **`range()`** starts at 0. However, you can specify a starting value by providing two arguments: the start and stop values."
   ]
  },
  {
   "cell_type": "code",
   "execution_count": null,
   "metadata": {
    "id": "BUjQ4BIacE5c"
   },
   "outputs": [],
   "source": [
    "# Looping from 1 to 5\n",
    "for i in range(1, 6):  # Starts at 1, stops before 6\n",
    "    print(i)"
   ]
  },
  {
   "cell_type": "markdown",
   "metadata": {
    "id": "rwbjXsuKcPMo"
   },
   "source": [
    "This loop prints numbers from 1 to 5. The range(1, 6) call generates numbers starting at 1 and ending just before 6. This is because the stop value is non-inclusive."
   ]
  },
  {
   "cell_type": "markdown",
   "metadata": {
    "id": "_BrK7zmAcdqQ"
   },
   "source": [
    "<br>\n",
    "\n",
    "##### 1.3.2 **Using a Step Value**\n",
    "\n",
    "You can also specify a step value as the third argument to **`range()`**, which determines the increment between each number in the sequence."
   ]
  },
  {
   "cell_type": "code",
   "execution_count": 9,
   "metadata": {
    "colab": {
     "base_uri": "https://localhost:8080/"
    },
    "executionInfo": {
     "elapsed": 278,
     "status": "ok",
     "timestamp": 1728899588838,
     "user": {
      "displayName": "Josh Hellings",
      "userId": "03405586985948871347"
     },
     "user_tz": -60
    },
    "id": "jC0lwXvHcPXH",
    "outputId": "b3d8b957-9ba4-47f1-aa98-ecf14521ad66"
   },
   "outputs": [
    {
     "name": "stdout",
     "output_type": "stream",
     "text": [
      "0\n",
      "2\n",
      "4\n",
      "6\n",
      "8\n"
     ]
    }
   ],
   "source": [
    "# Counting by twos\n",
    "for i in range(0, 10, 2):  # From 0 to 10, stepping by 2\n",
    "    print(i)"
   ]
  },
  {
   "cell_type": "markdown",
   "metadata": {
    "id": "b6CJtKrickAL"
   },
   "source": [
    "This loop prints even numbers between 0 and 8. The step value of 2 means that it will skip every other number, starting from 0 and stopping before reaching 10."
   ]
  },
  {
   "cell_type": "markdown",
   "metadata": {
    "id": "tEBj6b22cl-g"
   },
   "source": [
    "<br>\n",
    "\n",
    "### 1.4 **Looping Over Strings**\n",
    "\n",
    "Loops can also iterate over each character in a string, allowing you to perform actions on or with each character."
   ]
  },
  {
   "cell_type": "code",
   "execution_count": 11,
   "metadata": {
    "colab": {
     "base_uri": "https://localhost:8080/"
    },
    "executionInfo": {
     "elapsed": 754,
     "status": "ok",
     "timestamp": 1728899624461,
     "user": {
      "displayName": "Josh Hellings",
      "userId": "03405586985948871347"
     },
     "user_tz": -60
    },
    "id": "9ucNCNNpcpj0",
    "outputId": "c1b93bbb-19e8-4e30-8eb6-7ca671d894cb"
   },
   "outputs": [
    {
     "name": "stdout",
     "output_type": "stream",
     "text": [
      "B\n",
      "r\n",
      "i\n",
      "s\n",
      "t\n",
      "o\n",
      "l\n"
     ]
    }
   ],
   "source": [
    "# Looping over each character in a string\n",
    "for char in \"Bristol\":\n",
    "    print(char)"
   ]
  },
  {
   "cell_type": "markdown",
   "metadata": {
    "id": "gdCa_JBectyt"
   },
   "source": [
    "<br>\n",
    "<br>\n",
    "\n",
    "### <font color='Green'><strong>Loops Exercises: </strong></font>\n",
    "\n",
    "These examples and exercises introduce you to the power and flexibility of loops in Python, demonstrating how they can be used to iterate over lists, numbers, and strings to perform repetitive tasks efficiently.\n",
    "\n",
    "**EX 1.1** Create a loop that prints each character of your name."
   ]
  },
  {
   "cell_type": "code",
   "execution_count": 12,
   "metadata": {
    "executionInfo": {
     "elapsed": 271,
     "status": "ok",
     "timestamp": 1728899783224,
     "user": {
      "displayName": "Josh Hellings",
      "userId": "03405586985948871347"
     },
     "user_tz": -60
    },
    "id": "7FBotVWfdELL"
   },
   "outputs": [],
   "source": [
    "### 1.1 Add Solution Here ###\n"
   ]
  },
  {
   "cell_type": "markdown",
   "metadata": {
    "id": "EFg9hwy0dHXG"
   },
   "source": [
    "<br>\n",
    "\n",
    "**EX 1.2** Use a **`for`** loop and the **`range()`** function to print the numbers 1 through 5."
   ]
  },
  {
   "cell_type": "code",
   "execution_count": null,
   "metadata": {
    "id": "kYOsec57dR6E"
   },
   "outputs": [],
   "source": [
    "### 1.2 Add Solution Here ###\n"
   ]
  },
  {
   "cell_type": "markdown",
   "metadata": {
    "id": "yFdfUOqsdL8V"
   },
   "source": [
    "<br>\n",
    "\n",
    "<font color='Green'><strong>Bonus Exercise: </strong></font>\n",
    "\n",
    "**EX 1.3** Write a loop using range() to print all odd numbers from 1 to 10."
   ]
  },
  {
   "cell_type": "code",
   "execution_count": null,
   "metadata": {
    "id": "6lMCBdHeciB1"
   },
   "outputs": [],
   "source": [
    "### 1.3 Add Solution Here ###\n"
   ]
  },
  {
   "cell_type": "markdown",
   "metadata": {
    "id": "3cGk4L1fdYIQ"
   },
   "source": [
    "<br>\n",
    "<br>\n",
    "\n",
    "---"
   ]
  },
  {
   "cell_type": "markdown",
   "metadata": {
    "id": "TCm2SvW7g1Kr"
   },
   "source": [
    "<br>\n",
    "\n",
    "## 2. Conditionals\n",
    "\n",
    "Conditionals in Python allow you to execute different blocks of code based on certain conditions. These conditions are expressed using logical comparisons, including:\n",
    "- equals (==)\n",
    "- not equals (!=)\n",
    "- greater than (>)\n",
    "- less than (<)\n",
    "- greater than or equal to (>=)\n",
    "- less than or equal to (<=).\n",
    "\n",
    "The boolean values True and False are returned when an expression is compared or evaluated.\n",
    "\n",
    "**Hint**: Read more about Python operators [here](https://www.w3schools.com/python/python_operators.asp)."
   ]
  },
  {
   "cell_type": "markdown",
   "metadata": {
    "id": "uUsGMvpyg8mj"
   },
   "source": [
    "<br>\n",
    "\n",
    "### 2.1 **Basic If-Else Statement**\n",
    "\n",
    "The simplest form of conditional is an **`if-else`** statement, which executes a block of code if a condition is **`True`**, and another block if the condition is **`False`**."
   ]
  },
  {
   "cell_type": "code",
   "execution_count": 13,
   "metadata": {
    "colab": {
     "base_uri": "https://localhost:8080/"
    },
    "executionInfo": {
     "elapsed": 238,
     "status": "ok",
     "timestamp": 1728900898438,
     "user": {
      "displayName": "Josh Hellings",
      "userId": "03405586985948871347"
     },
     "user_tz": -60
    },
    "id": "rmxtSS_NdaLA",
    "outputId": "310edfc8-c996-43c5-a703-98d9e636b322"
   },
   "outputs": [
    {
     "name": "stdout",
     "output_type": "stream",
     "text": [
      "You are an adult.\n"
     ]
    }
   ],
   "source": [
    "age = 20\n",
    "\n",
    "# Check if `age` is 18 or more. If True, print \"You are an adult.\"; otherwise, print \"You are a child.\"\n",
    "if age >= 18:\n",
    "    print(\"You are an adult.\")\n",
    "else:\n",
    "    print(\"You are a child.\")"
   ]
  },
  {
   "cell_type": "markdown",
   "metadata": {
    "id": "IJc1Pm8ehjeT"
   },
   "source": [
    "<br>\n",
    "\n",
    "### 2.2 **Elif for Multiple Conditions**\n",
    "\n",
    "For multiple conditions, **`elif`** (short for \"else if\") can be used to check additional conditions if the previous ones were **`False`**."
   ]
  },
  {
   "cell_type": "code",
   "execution_count": 14,
   "metadata": {
    "colab": {
     "base_uri": "https://localhost:8080/"
    },
    "executionInfo": {
     "elapsed": 292,
     "status": "ok",
     "timestamp": 1728900925599,
     "user": {
      "displayName": "Josh Hellings",
      "userId": "03405586985948871347"
     },
     "user_tz": -60
    },
    "id": "QOunl4J_hhxa",
    "outputId": "8b1090cd-5908-42bb-9836-116950b482a2"
   },
   "outputs": [
    {
     "name": "stdout",
     "output_type": "stream",
     "text": [
      "You are a teenager.\n"
     ]
    }
   ],
   "source": [
    "age = 14\n",
    "\n",
    "if age >= 18:\n",
    "    print(\"You are an adult.\")\n",
    "elif age >= 13:\n",
    "    print(\"You are a teenager.\")\n",
    "else:\n",
    "    print(\"You are a child.\")\n"
   ]
  },
  {
   "cell_type": "markdown",
   "metadata": {
    "id": "tmg4xuFbi6kB"
   },
   "source": [
    "<br>\n",
    "\n",
    "### 2.3 **Nested Conditionals**\n",
    "\n",
    "`if-else` statements can be nested within other conditionals to handle more complex decision trees. This is useful in scenarios where multiple levels of conditions are needed."
   ]
  },
  {
   "cell_type": "code",
   "execution_count": 17,
   "metadata": {
    "colab": {
     "base_uri": "https://localhost:8080/"
    },
    "executionInfo": {
     "elapsed": 243,
     "status": "ok",
     "timestamp": 1728901300463,
     "user": {
      "displayName": "Josh Hellings",
      "userId": "03405586985948871347"
     },
     "user_tz": -60
    },
    "id": "6QbeyuICjDro",
    "outputId": "17cbb23e-afdd-49ff-9149-93be98d9ca50"
   },
   "outputs": [
    {
     "name": "stdout",
     "output_type": "stream",
     "text": [
      "You are an adult and you have an ID.\n"
     ]
    }
   ],
   "source": [
    "age = 25\n",
    "has_id = True\n",
    "\n",
    "if age >= 18:\n",
    "    if has_id:\n",
    "        print(\"You are an adult and you have an ID.\")\n",
    "    else:\n",
    "        print(\"You are an adult but you don't have an ID.\")\n",
    "else:\n",
    "    print(\"You are not an adult.\")\n"
   ]
  },
  {
   "cell_type": "markdown",
   "metadata": {
    "id": "bk-rUvfNjGH3"
   },
   "source": [
    "Explanation: The nested if inside the first if handles the additional check (has_id). If the first condition is True, the second condition (has_id) is evaluated, allowing more granular decision-making."
   ]
  },
  {
   "cell_type": "markdown",
   "metadata": {
    "id": "ZGhx1cT_k_Dp"
   },
   "source": [
    "<br>\n",
    "\n",
    "### 2.4 **Using `in` with Conditionals**\n",
    "\n",
    "The `in` operator is helpful for checking membership in collections like lists, tuples, or strings. This is particularly useful when checking if a value exists within a list of values."
   ]
  },
  {
   "cell_type": "code",
   "execution_count": 18,
   "metadata": {
    "colab": {
     "base_uri": "https://localhost:8080/"
    },
    "executionInfo": {
     "elapsed": 311,
     "status": "ok",
     "timestamp": 1728901857923,
     "user": {
      "displayName": "Josh Hellings",
      "userId": "03405586985948871347"
     },
     "user_tz": -60
    },
    "id": "RqGpk7ltlLYk",
    "outputId": "fc967abd-cbbc-4824-cc9f-07cc662c00b1"
   },
   "outputs": [
    {
     "name": "stdout",
     "output_type": "stream",
     "text": [
      "apple is in the list of fruits.\n"
     ]
    }
   ],
   "source": [
    "fruit = \"apple\"\n",
    "if fruit in [\"apple\", \"banana\", \"cherry\"]:\n",
    "    print(f\"{fruit} is in the list of fruits.\")\n",
    "else:\n",
    "    print(f\"{fruit} is not in the list of fruits.\")"
   ]
  },
  {
   "cell_type": "markdown",
   "metadata": {
    "id": "9F6kN8cUldpo"
   },
   "source": [
    "<br>\n",
    "\n",
    "### 2.5 **Combining Logical Operators**\n",
    "\n",
    "We can use the \"and\" and \"or\" boolean operators to build complex boolean expressions, for example:"
   ]
  },
  {
   "cell_type": "code",
   "execution_count": 19,
   "metadata": {
    "colab": {
     "base_uri": "https://localhost:8080/"
    },
    "executionInfo": {
     "elapsed": 501,
     "status": "ok",
     "timestamp": 1728901972918,
     "user": {
      "displayName": "Josh Hellings",
      "userId": "03405586985948871347"
     },
     "user_tz": -60
    },
    "id": "G-kFPdzzhvEn",
    "outputId": "acef5b2f-d14d-49ac-95ef-6ecba821fc7c"
   },
   "outputs": [
    {
     "name": "stdout",
     "output_type": "stream",
     "text": [
      "Your name is John, and you are also 23 years old.\n",
      "Your name is either John or James.\n"
     ]
    }
   ],
   "source": [
    "name = \"John\"\n",
    "age = 23\n",
    "if name == \"John\" and age == 23:\n",
    "    print(\"Your name is John, and you are also 23 years old.\")\n",
    "\n",
    "if name == \"John\" or name == \"James\":\n",
    "    print(\"Your name is either John or James.\")"
   ]
  },
  {
   "cell_type": "markdown",
   "metadata": {
    "id": "aACzDp-flqog"
   },
   "source": [
    "We can also use parentheses to ensure that the conditions are grouped logically:"
   ]
  },
  {
   "cell_type": "code",
   "execution_count": null,
   "metadata": {
    "id": "EKXYF-_kloB5"
   },
   "outputs": [],
   "source": [
    "age = 22\n",
    "student = True\n",
    "\n",
    "if (age >= 18 and age <= 25) or student:\n",
    "    print(\"You qualify for the young person's discount.\")\n",
    "else:\n",
    "    print(\"You do not qualify for the discount.\")"
   ]
  },
  {
   "cell_type": "markdown",
   "metadata": {
    "id": "sElQwfLhlx0-"
   },
   "source": [
    "Here, the parentheses allow the program to first check if the person is aged 18-25, and if that's not true, it will check if they are a student. This is useful for complex conditions."
   ]
  },
  {
   "cell_type": "markdown",
   "metadata": {
    "id": "na3p_XpTnqP1"
   },
   "source": [
    "<br>\n",
    "\n",
    "### 2.6 **Ternary (Inline) Conditional**\n",
    "\n",
    "This shorthand form of an if-else statement allows for a more concise way of assigning values based on a condition, making the code cleaner when dealing with simple cases."
   ]
  },
  {
   "cell_type": "code",
   "execution_count": 22,
   "metadata": {
    "colab": {
     "base_uri": "https://localhost:8080/"
    },
    "executionInfo": {
     "elapsed": 244,
     "status": "ok",
     "timestamp": 1728902565045,
     "user": {
      "displayName": "Josh Hellings",
      "userId": "03405586985948871347"
     },
     "user_tz": -60
    },
    "id": "C2IltaIDn1NZ",
    "outputId": "0164f762-7958-4512-dfcc-cd685f097554"
   },
   "outputs": [
    {
     "name": "stdout",
     "output_type": "stream",
     "text": [
      "You are a child.\n"
     ]
    }
   ],
   "source": [
    "age = 16\n",
    "message = \"You are an adult.\" if age >= 18 else \"You are a child.\"\n",
    "print(message)\n"
   ]
  },
  {
   "cell_type": "markdown",
   "metadata": {
    "id": "Ss6lqtXumt9t"
   },
   "source": [
    "<br>\n",
    "<br>\n",
    "\n",
    "### <font color='Green'><strong>Conditionals Exercises: </strong></font>\n",
    "\n",
    "\n",
    "**EX 2.1** (Nested Conditionals): Create a nested conditional that checks if a person has a valid driver's license and whether they have insurance. If both are true, print \"You are allowed to drive.\" Otherwise, print the appropriate message."
   ]
  },
  {
   "cell_type": "code",
   "execution_count": 20,
   "metadata": {
    "executionInfo": {
     "elapsed": 265,
     "status": "ok",
     "timestamp": 1728902356918,
     "user": {
      "displayName": "Josh Hellings",
      "userId": "03405586985948871347"
     },
     "user_tz": -60
    },
    "id": "1cF3HRzonEzw"
   },
   "outputs": [],
   "source": [
    "### 2.1 Add Solution Here ###\n"
   ]
  },
  {
   "cell_type": "markdown",
   "metadata": {
    "id": "2mhuJPBGn-j-"
   },
   "source": [
    "<br>\n",
    "\n",
    "**EX 2.2** Use a ternary conditional to assign a message indicating whether a number is positive, negative, or zero."
   ]
  },
  {
   "cell_type": "code",
   "execution_count": 24,
   "metadata": {
    "executionInfo": {
     "elapsed": 235,
     "status": "ok",
     "timestamp": 1728902617396,
     "user": {
      "displayName": "Josh Hellings",
      "userId": "03405586985948871347"
     },
     "user_tz": -60
    },
    "id": "7RvMLsZhoEa7"
   },
   "outputs": [],
   "source": [
    "### 2.3 Add Solution Here ###\n"
   ]
  },
  {
   "cell_type": "markdown",
   "metadata": {
    "id": "m3kXJTMvnUWj"
   },
   "source": [
    "<br>\n",
    "\n",
    "**EX 2.3** Write a condition that checks if a user's role is one of “admin”, “moderator”, or “superuser” and prints an appropriate message."
   ]
  },
  {
   "cell_type": "code",
   "execution_count": 23,
   "metadata": {
    "executionInfo": {
     "elapsed": 268,
     "status": "ok",
     "timestamp": 1728902612031,
     "user": {
      "displayName": "Josh Hellings",
      "userId": "03405586985948871347"
     },
     "user_tz": -60
    },
    "id": "K-5FsmxincVw"
   },
   "outputs": [],
   "source": [
    "### 2.3 Add Solution Here ###\n",
    "roles = ['admin', 'moderator', 'superuser']\n"
   ]
  },
  {
   "cell_type": "markdown",
   "metadata": {
    "id": "gb6eR6-Ml-um"
   },
   "source": [
    "<br>\n",
    "\n",
    "---"
   ]
  },
  {
   "cell_type": "markdown",
   "metadata": {
    "id": "NInWPtULmBfj"
   },
   "source": [
    "<br>\n",
    "<br>\n",
    "\n",
    "## 3. **Combining Loops & Conditionals**\n",
    "\n",
    "Combining loops with conditionals allows you to iterate over items and execute different actions depending on each item's value.\n",
    "\n",
    "<br>\n",
    "\n",
    "### 3.1 **Categorising data**\n",
    "\n",
    "We've seen how to combine multiple tests using if-elif-else etc. Now imagine we've fetched a list of ages, and we need to categorise each person based on their age. We can do this quickly using a loop around our conditionals:"
   ]
  },
  {
   "cell_type": "code",
   "execution_count": 26,
   "metadata": {
    "colab": {
     "base_uri": "https://localhost:8080/"
    },
    "executionInfo": {
     "elapsed": 220,
     "status": "ok",
     "timestamp": 1728903315022,
     "user": {
      "displayName": "Josh Hellings",
      "userId": "03405586985948871347"
     },
     "user_tz": -60
    },
    "id": "r4JUpGTgqtS2",
    "outputId": "a53945dd-950c-47b4-b31c-dfbed63d7902"
   },
   "outputs": [
    {
     "name": "stdout",
     "output_type": "stream",
     "text": [
      "You are a child.\n",
      "You are a teenager.\n",
      "You are an adult.\n",
      "You are an adult.\n",
      "You are a teenager.\n",
      "You are an adult.\n"
     ]
    }
   ],
   "source": [
    "ages = [12, 17, 20, 30, 15, 22]\n",
    "\n",
    "for age in ages:\n",
    "  if age >= 18:\n",
    "      print(\"You are an adult.\")\n",
    "  elif age >= 13:\n",
    "      print(\"You are a teenager.\")\n",
    "  else:\n",
    "      print(\"You are a child.\")"
   ]
  },
  {
   "cell_type": "code",
   "execution_count": 25,
   "metadata": {
    "colab": {
     "base_uri": "https://localhost:8080/"
    },
    "executionInfo": {
     "elapsed": 254,
     "status": "ok",
     "timestamp": 1728903179137,
     "user": {
      "displayName": "Josh Hellings",
      "userId": "03405586985948871347"
     },
     "user_tz": -60
    },
    "id": "EFZqUix5l3Tb",
    "outputId": "c20eb809-dcd8-4c0a-8b02-7188b095fb2b"
   },
   "outputs": [
    {
     "name": "stdout",
     "output_type": "stream",
     "text": [
      "1 is odd.\n",
      "2 is even.\n",
      "3 is odd.\n",
      "4 is even.\n",
      "5 is odd.\n"
     ]
    }
   ],
   "source": [
    "numbers = [1, 2, 3, 4, 5]\n",
    "\n",
    "for number in numbers:\n",
    "    if number % 2 == 0: # The % operator returns the remainder of the division, e.g. 5 % 2 = 1\n",
    "        print(f\"{number} is even.\")\n",
    "    else:\n",
    "        print(f\"{number} is odd.\")"
   ]
  },
  {
   "cell_type": "markdown",
   "metadata": {
    "id": "NNg_120lrLcy"
   },
   "source": [
    "<br>\n",
    "\n",
    "### 3.3 **Filtering Data**\n",
    "\n",
    "Suppose you want to visualise only certain types of data. You can combine a loop with an if statement to filter the data and prepare it for charting. Here, we filter numbers above a certain threshold."
   ]
  },
  {
   "cell_type": "code",
   "execution_count": 27,
   "metadata": {
    "colab": {
     "base_uri": "https://localhost:8080/"
    },
    "executionInfo": {
     "elapsed": 244,
     "status": "ok",
     "timestamp": 1728911282439,
     "user": {
      "displayName": "Josh Hellings",
      "userId": "03405586985948871347"
     },
     "user_tz": -60
    },
    "id": "bIUZkFz2JG9m",
    "outputId": "6668d9c9-4c05-42fd-ae1e-10746b27932c"
   },
   "outputs": [
    {
     "name": "stdout",
     "output_type": "stream",
     "text": [
      "Filtered Data: [67, 78, 90, 56]\n"
     ]
    }
   ],
   "source": [
    "data = [45, 67, 23, 78, 12, 90, 56]\n",
    "filtered_data = []\n",
    "\n",
    "for value in data:\n",
    "    if value > 50:\n",
    "        filtered_data.append(value)\n",
    "\n",
    "print(\"Filtered Data:\", filtered_data)"
   ]
  },
  {
   "cell_type": "markdown",
   "metadata": {
    "id": "bSCOchJarZCC"
   },
   "source": [
    "<br>\n",
    "\n",
    "### 3.4 **Counting Categories in Data**\n",
    "\n",
    "This example simulates counting the number of occurrences of categories in your data, similar to tallying results before visualisation. For example, let's count how many even and odd numbers are present.\n"
   ]
  },
  {
   "cell_type": "code",
   "execution_count": 28,
   "metadata": {
    "colab": {
     "base_uri": "https://localhost:8080/"
    },
    "executionInfo": {
     "elapsed": 259,
     "status": "ok",
     "timestamp": 1728911330060,
     "user": {
      "displayName": "Josh Hellings",
      "userId": "03405586985948871347"
     },
     "user_tz": -60
    },
    "id": "voRIENFnqOlG",
    "outputId": "97c1835b-7c97-4e3a-e83a-e8148721798a"
   },
   "outputs": [
    {
     "name": "stdout",
     "output_type": "stream",
     "text": [
      "Even numbers: 4, Odd numbers: 3\n"
     ]
    }
   ],
   "source": [
    "numbers = [10, 15, 20, 25, 30, 35, 40]\n",
    "even_count = 0\n",
    "odd_count = 0\n",
    "\n",
    "for number in numbers:\n",
    "    if number % 2 == 0:\n",
    "        even_count += 1\n",
    "    else:\n",
    "        odd_count += 1\n",
    "\n",
    "print(f\"Even numbers: {even_count}, Odd numbers: {odd_count}\")"
   ]
  },
  {
   "cell_type": "markdown",
   "metadata": {
    "id": "MZdd2Ke-Lkff"
   },
   "source": [
    "<br>\n",
    "\n",
    "___"
   ]
  },
  {
   "cell_type": "markdown",
   "metadata": {
    "id": "CMF12TkKLm0o"
   },
   "source": [
    "<br>\n",
    "\n",
    "## 4. Advanced Examples\n",
    "\n",
    "In this section, we will cover a few more advanced techniques to help you understand how to control loops more effectively. These include while loops, nested loops, and the use of break and continue statements to control the flow of your loops."
   ]
  },
  {
   "cell_type": "markdown",
   "metadata": {
    "id": "brReEPgyMGtw"
   },
   "source": [
    "### 4.1 **While Loops**\n",
    "\n",
    "A while loop continues to execute as long as the given condition remains True. It's useful when you don't know in advance how many times the loop should run (unlike for loops, which iterate over a fixed range or list)."
   ]
  },
  {
   "cell_type": "code",
   "execution_count": 29,
   "metadata": {
    "colab": {
     "base_uri": "https://localhost:8080/"
    },
    "executionInfo": {
     "elapsed": 224,
     "status": "ok",
     "timestamp": 1728912211506,
     "user": {
      "displayName": "Josh Hellings",
      "userId": "03405586985948871347"
     },
     "user_tz": -60
    },
    "id": "IjowlrQlJUdd",
    "outputId": "6ec0844f-cc0f-48ef-d590-582655cc09c7"
   },
   "outputs": [
    {
     "name": "stdout",
     "output_type": "stream",
     "text": [
      "Counter is at: 0\n",
      "Counter is at: 1\n",
      "Counter is at: 2\n",
      "Counter is at: 3\n",
      "Counter is at: 4\n"
     ]
    }
   ],
   "source": [
    "# Example of a while loop that runs until the counter reaches 5\n",
    "counter = 0\n",
    "\n",
    "while counter < 5:\n",
    "    print(f\"Counter is at: {counter}\")\n",
    "    counter += 1  # Increment the counter in each iteration"
   ]
  },
  {
   "cell_type": "markdown",
   "metadata": {
    "id": "83fGdAK_MtQu"
   },
   "source": [
    "In this example, the loop runs until the counter variable reaches 5. Each time through the loop, the value of counter is printed, and then incremented by 1. Once counter reaches 5, the loop stops."
   ]
  },
  {
   "cell_type": "markdown",
   "metadata": {
    "id": "EpImv4i0MtuT"
   },
   "source": [
    "<br>\n",
    "\n",
    "### 4.2 **Nested Loops**"
   ]
  },
  {
   "cell_type": "markdown",
   "metadata": {
    "id": "W4nPayLOM2cY"
   },
   "source": [
    "Nested loops are loops inside other loops. They are useful when you need to process multi-dimensional structures, like grids or lists of lists."
   ]
  },
  {
   "cell_type": "code",
   "execution_count": 30,
   "metadata": {
    "colab": {
     "base_uri": "https://localhost:8080/"
    },
    "executionInfo": {
     "elapsed": 259,
     "status": "ok",
     "timestamp": 1728912262162,
     "user": {
      "displayName": "Josh Hellings",
      "userId": "03405586985948871347"
     },
     "user_tz": -60
    },
    "id": "XYkWu4JGMrwj",
    "outputId": "ea5fd8a4-6c49-4f0e-c3e6-2a9765e233b5"
   },
   "outputs": [
    {
     "name": "stdout",
     "output_type": "stream",
     "text": [
      "(1, 1) (1, 2) (1, 3) \n",
      "(2, 1) (2, 2) (2, 3) \n",
      "(3, 1) (3, 2) (3, 3) \n"
     ]
    }
   ],
   "source": [
    "# Example of a nested loop: printing a grid of numbers\n",
    "for i in range(1, 4):  # Outer loop (rows)\n",
    "    for j in range(1, 4):  # Inner loop (columns)\n",
    "        print(f\"({i}, {j})\", end=\" \")\n",
    "    print()  # Print a newline after each row\n"
   ]
  },
  {
   "cell_type": "markdown",
   "metadata": {
    "id": "MVrMZHkiM5-o"
   },
   "source": [
    "The outer loop (`for i in range(1, 4)`) controls the rows, while the inner loop (`for j in range(1, 4)`) controls the columns. Together, they print a grid of coordinate pairs. This technique is useful for handling multi-dimensional arrays or matrices in data science, such as when working with tabular data or visual grids."
   ]
  },
  {
   "cell_type": "markdown",
   "metadata": {
    "id": "FMZUvPGINAjX"
   },
   "source": [
    "<br>\n",
    "\n",
    "### 4.3 **`break` Statement**\n",
    "\n",
    "The break statement allows you to exit a loop early if a certain condition is met. This is helpful when you want to stop processing data as soon as you find a specific result, or when a condition occurs that makes continuing unnecessary."
   ]
  },
  {
   "cell_type": "code",
   "execution_count": 31,
   "metadata": {
    "colab": {
     "base_uri": "https://localhost:8080/"
    },
    "executionInfo": {
     "elapsed": 3,
     "status": "ok",
     "timestamp": 1728912329529,
     "user": {
      "displayName": "Josh Hellings",
      "userId": "03405586985948871347"
     },
     "user_tz": -60
    },
    "id": "yWIvUYhxNIZy",
    "outputId": "9b0cec82-8b3a-4df6-b05a-787bcd7eb097"
   },
   "outputs": [
    {
     "name": "stdout",
     "output_type": "stream",
     "text": [
      "Processing number: 10\n",
      "Processing number: 20\n",
      "Found 30, stopping the loop.\n"
     ]
    }
   ],
   "source": [
    "# Example of using `break` to stop the loop when a specific value is found\n",
    "numbers = [10, 20, 30, 40, 50]\n",
    "\n",
    "for number in numbers:\n",
    "    if number == 30:\n",
    "        print(f\"Found {number}, stopping the loop.\")\n",
    "        break  # Exit the loop as soon as we find the value 30\n",
    "    print(f\"Processing number: {number}\")\n"
   ]
  },
  {
   "cell_type": "markdown",
   "metadata": {
    "id": "hJizH1CLNKI6"
   },
   "source": [
    "Here, the loop will iterate through the list `numbers`. However, as soon as it encounters the number `30`, the `break` statement is triggered, and the loop stops immediately. This is useful for early exits from loops when you've found what you're looking for."
   ]
  },
  {
   "cell_type": "markdown",
   "metadata": {
    "id": "ipl9F8coNQma"
   },
   "source": [
    "<br>\n",
    "\n",
    "### 4.4 **`continue` Statement**\n",
    "\n",
    "The continue statement allows you to skip the current iteration of a loop and move directly to the next one. This can be useful when there are specific cases where you don't want to process certain values."
   ]
  },
  {
   "cell_type": "code",
   "execution_count": 32,
   "metadata": {
    "colab": {
     "base_uri": "https://localhost:8080/"
    },
    "executionInfo": {
     "elapsed": 246,
     "status": "ok",
     "timestamp": 1728912395568,
     "user": {
      "displayName": "Josh Hellings",
      "userId": "03405586985948871347"
     },
     "user_tz": -60
    },
    "id": "OnBA3w9jNXXv",
    "outputId": "1bbf7804-a930-474c-c032-133dfd3734ca"
   },
   "outputs": [
    {
     "name": "stdout",
     "output_type": "stream",
     "text": [
      "1\n",
      "2\n",
      "4\n",
      "5\n",
      "7\n",
      "8\n"
     ]
    }
   ],
   "source": [
    "# Example of using `continue` to skip numbers divisible by 3\n",
    "for num in range(1, 10):\n",
    "    if num % 3 == 0:\n",
    "        continue  # Skip the rest of the loop when num is divisible by 3\n",
    "    print(num)\n"
   ]
  },
  {
   "cell_type": "markdown",
   "metadata": {
    "id": "EMVCjwHUNaDd"
   },
   "source": [
    "In this example, the `continue` statement is used to skip any numbers that are divisible by 3. When the loop encounters a number that satisfies the condition `num % 3 == 0`, it skips to the next iteration without executing the `print()` statement for that number."
   ]
  },
  {
   "cell_type": "markdown",
   "metadata": {
    "id": "jeGFYMu-NlRw"
   },
   "source": [
    "<br>\n",
    "<br>\n",
    "\n",
    "### <font color='Green'><strong>Bonus Exercises: </strong></font>\n",
    "\n",
    "<br>\n",
    "\n",
    "**EX 4.1** Create a nested loop that prints a 5x5 grid of stars (*)."
   ]
  },
  {
   "cell_type": "code",
   "execution_count": 34,
   "metadata": {
    "executionInfo": {
     "elapsed": 251,
     "status": "ok",
     "timestamp": 1728913089681,
     "user": {
      "displayName": "Josh Hellings",
      "userId": "03405586985948871347"
     },
     "user_tz": -60
    },
    "id": "FhMoVqY-M4Ha"
   },
   "outputs": [],
   "source": [
    "### 4.1 Add Solution Here ###\n"
   ]
  },
  {
   "cell_type": "markdown",
   "metadata": {
    "id": "sGPmF-eJP6A6"
   },
   "source": [
    "<br>\n",
    "\n",
    "**EX4.1** Modify the list of numbers in the break example. If the number is 50, use continue to skip that number, but stop the loop entirely when you find 60."
   ]
  },
  {
   "cell_type": "code",
   "execution_count": 35,
   "metadata": {
    "executionInfo": {
     "elapsed": 261,
     "status": "ok",
     "timestamp": 1728913090700,
     "user": {
      "displayName": "Josh Hellings",
      "userId": "03405586985948871347"
     },
     "user_tz": -60
    },
    "id": "uYMjoy9tN3ni"
   },
   "outputs": [],
   "source": [
    "### 4.2 Add Solution Here ###\n"
   ]
  },
  {
   "cell_type": "markdown",
   "metadata": {
    "id": "5C0cRCVAPy8r"
   },
   "source": [
    "<br>\n",
    "\n",
    "**EX 4.3** Write a while loop that repeatedly asks the user for a number and exits when the user enters a negative number.\n",
    "- **Hint:** You'll need to use the `input()` function - what data type is the inputted variable? Try converting it to a number using `int()`. See more info on [`input()`](https://www.w3schools.com/python/ref_func_input.asp) and [`int()`](https://www.w3schools.com/python/python_casting.asp)  "
   ]
  },
  {
   "cell_type": "code",
   "execution_count": 33,
   "metadata": {
    "executionInfo": {
     "elapsed": 239,
     "status": "ok",
     "timestamp": 1728912573817,
     "user": {
      "displayName": "Josh Hellings",
      "userId": "03405586985948871347"
     },
     "user_tz": -60
    },
    "id": "OECRY0kYOBXa"
   },
   "outputs": [],
   "source": [
    "### 4.3 Add Solution Here ###\n"
   ]
  }
 ],
 "metadata": {
  "colab": {
   "authorship_tag": "ABX9TyN1Pd5Ckr90hCCuedAIzNiL",
   "provenance": []
  },
  "kernelspec": {
   "display_name": "Python 3",
   "name": "python3"
  },
  "language_info": {
   "name": "python"
  }
 },
 "nbformat": 4,
 "nbformat_minor": 0
}
